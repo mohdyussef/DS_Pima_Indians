{
 "metadata": {
  "language_info": {
   "codemirror_mode": {
    "name": "ipython",
    "version": 3
   },
   "file_extension": ".py",
   "mimetype": "text/x-python",
   "name": "python",
   "nbconvert_exporter": "python",
   "pygments_lexer": "ipython3",
   "version": "3.9.5"
  },
  "orig_nbformat": 4,
  "kernelspec": {
   "name": "python3",
   "display_name": "Python 3.9.5 64-bit"
  },
  "interpreter": {
   "hash": "ee5cc6fef2d70a7e71ee3826687cbd150f18158e0b1eef11d4f4f92bb920e304"
  }
 },
 "nbformat": 4,
 "nbformat_minor": 2,
 "cells": [
  {
   "source": [
    "# reading data with pandas"
   ],
   "cell_type": "markdown",
   "metadata": {}
  },
  {
   "cell_type": "code",
   "execution_count": 1,
   "metadata": {},
   "outputs": [],
   "source": [
    "import pandas as pd\n",
    "# load data \n",
    "data = pd.read_csv('./data/diabetes.csv')"
   ]
  },
  {
   "cell_type": "code",
   "execution_count": 2,
   "metadata": {},
   "outputs": [
    {
     "output_type": "execute_result",
     "data": {
      "text/plain": [
       "       Pregnancies  Glucose  BloodPressure  SkinThickness  Insulin     BMI  \\\n",
       "count       768.00   768.00         768.00         768.00   768.00  768.00   \n",
       "mean          3.85   120.89          69.11          20.54    79.80   31.99   \n",
       "std           3.37    31.97          19.36          15.95   115.24    7.88   \n",
       "min           0.00     0.00           0.00           0.00     0.00    0.00   \n",
       "25%           1.00    99.00          62.00           0.00     0.00   27.30   \n",
       "50%           3.00   117.00          72.00          23.00    30.50   32.00   \n",
       "75%           6.00   140.25          80.00          32.00   127.25   36.60   \n",
       "max          17.00   199.00         122.00          99.00   846.00   67.10   \n",
       "\n",
       "       DiabetesPedigreeFunction     Age  Outcome  \n",
       "count                    768.00  768.00   768.00  \n",
       "mean                       0.47   33.24     0.35  \n",
       "std                        0.33   11.76     0.48  \n",
       "min                        0.08   21.00     0.00  \n",
       "25%                        0.24   24.00     0.00  \n",
       "50%                        0.37   29.00     0.00  \n",
       "75%                        0.63   41.00     1.00  \n",
       "max                        2.42   81.00     1.00  "
      ],
      "text/html": "<div>\n<style scoped>\n    .dataframe tbody tr th:only-of-type {\n        vertical-align: middle;\n    }\n\n    .dataframe tbody tr th {\n        vertical-align: top;\n    }\n\n    .dataframe thead th {\n        text-align: right;\n    }\n</style>\n<table border=\"1\" class=\"dataframe\">\n  <thead>\n    <tr style=\"text-align: right;\">\n      <th></th>\n      <th>Pregnancies</th>\n      <th>Glucose</th>\n      <th>BloodPressure</th>\n      <th>SkinThickness</th>\n      <th>Insulin</th>\n      <th>BMI</th>\n      <th>DiabetesPedigreeFunction</th>\n      <th>Age</th>\n      <th>Outcome</th>\n    </tr>\n  </thead>\n  <tbody>\n    <tr>\n      <th>count</th>\n      <td>768.00</td>\n      <td>768.00</td>\n      <td>768.00</td>\n      <td>768.00</td>\n      <td>768.00</td>\n      <td>768.00</td>\n      <td>768.00</td>\n      <td>768.00</td>\n      <td>768.00</td>\n    </tr>\n    <tr>\n      <th>mean</th>\n      <td>3.85</td>\n      <td>120.89</td>\n      <td>69.11</td>\n      <td>20.54</td>\n      <td>79.80</td>\n      <td>31.99</td>\n      <td>0.47</td>\n      <td>33.24</td>\n      <td>0.35</td>\n    </tr>\n    <tr>\n      <th>std</th>\n      <td>3.37</td>\n      <td>31.97</td>\n      <td>19.36</td>\n      <td>15.95</td>\n      <td>115.24</td>\n      <td>7.88</td>\n      <td>0.33</td>\n      <td>11.76</td>\n      <td>0.48</td>\n    </tr>\n    <tr>\n      <th>min</th>\n      <td>0.00</td>\n      <td>0.00</td>\n      <td>0.00</td>\n      <td>0.00</td>\n      <td>0.00</td>\n      <td>0.00</td>\n      <td>0.08</td>\n      <td>21.00</td>\n      <td>0.00</td>\n    </tr>\n    <tr>\n      <th>25%</th>\n      <td>1.00</td>\n      <td>99.00</td>\n      <td>62.00</td>\n      <td>0.00</td>\n      <td>0.00</td>\n      <td>27.30</td>\n      <td>0.24</td>\n      <td>24.00</td>\n      <td>0.00</td>\n    </tr>\n    <tr>\n      <th>50%</th>\n      <td>3.00</td>\n      <td>117.00</td>\n      <td>72.00</td>\n      <td>23.00</td>\n      <td>30.50</td>\n      <td>32.00</td>\n      <td>0.37</td>\n      <td>29.00</td>\n      <td>0.00</td>\n    </tr>\n    <tr>\n      <th>75%</th>\n      <td>6.00</td>\n      <td>140.25</td>\n      <td>80.00</td>\n      <td>32.00</td>\n      <td>127.25</td>\n      <td>36.60</td>\n      <td>0.63</td>\n      <td>41.00</td>\n      <td>1.00</td>\n    </tr>\n    <tr>\n      <th>max</th>\n      <td>17.00</td>\n      <td>199.00</td>\n      <td>122.00</td>\n      <td>99.00</td>\n      <td>846.00</td>\n      <td>67.10</td>\n      <td>2.42</td>\n      <td>81.00</td>\n      <td>1.00</td>\n    </tr>\n  </tbody>\n</table>\n</div>"
     },
     "metadata": {},
     "execution_count": 2
    }
   ],
   "source": [
    "pd.set_option('display.width',100)\n",
    "pd.set_option('precision',2)\n",
    "data.describe()"
   ]
  },
  {
   "cell_type": "code",
   "execution_count": null,
   "metadata": {},
   "outputs": [],
   "source": []
  }
 ]
}